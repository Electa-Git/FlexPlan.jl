{
 "metadata": {
  "language_info": {
   "codemirror_mode": {
    "name": "ipython",
    "version": 3
   },
   "file_extension": ".py",
   "mimetype": "text/x-python",
   "name": "python",
   "nbconvert_exporter": "python",
   "pygments_lexer": "ipython3",
   "version": "3.8.6-final"
  },
  "orig_nbformat": 2,
  "kernelspec": {
   "name": "julia-1.4",
   "display_name": "Julia 1.4.2",
   "language": "julia"
  }
 },
 "nbformat": 4,
 "nbformat_minor": 2,
 "cells": [
  {
   "cell_type": "code",
   "execution_count": 1,
   "metadata": {},
   "outputs": [
    {
     "output_type": "stream",
     "name": "stderr",
     "text": [
      "┌ Info: Precompiling FlexPlan [196f2941-2d58-45ba-9f13-43a2532b2fa8]\n",
      "└ @ Base loading.jl:1260\n",
      "┌ Warning: Package FlexPlan does not have DataStructures in its dependencies:\n",
      "│ - If you have FlexPlan checked out for development and have\n",
      "│   added DataStructures as a dependency but haven't updated your primary\n",
      "│   environment's manifest file, try `Pkg.resolve()`.\n",
      "│ - Otherwise you may need to report an issue with FlexPlan\n",
      "└ Loading DataStructures into FlexPlan from project dependency, future warnings for FlexPlan are suppressed.\n"
     ]
    }
   ],
   "source": [
    "import FlexPlan; const _FP = FlexPlan\n",
    "import PowerModelsACDC; const _PMACDC = PowerModelsACDC\n",
    "import PowerModels; const _PM = PowerModels\n",
    "import InfrastructureModels; const _IM = InfrastructureModels\n",
    "\n",
    "import JuMP\n",
    "import Cbc"
   ]
  },
  {
   "source": [
    "Solver configurations:"
   ],
   "cell_type": "markdown",
   "metadata": {}
  },
  {
   "cell_type": "code",
   "execution_count": 2,
   "metadata": {},
   "outputs": [
    {
     "output_type": "stream",
     "name": "stderr",
     "text": [
      "┌ Warning: `with_optimizer` is deprecated. Adapt the following example to update your code:\n│ `with_optimizer(Ipopt.Optimizer, max_cpu_time=60.0)` becomes `optimizer_with_attributes(Ipopt.Optimizer, \"max_cpu_time\" => 60.0)`.\n│   caller = ip:0x0\n└ @ Core :-1\n"
     ]
    },
    {
     "output_type": "execute_result",
     "data": {
      "text/plain": [
       "MathOptInterface.OptimizerWithAttributes(Cbc.Optimizer, Pair{MathOptInterface.AbstractOptimizerAttribute,Any}[MathOptInterface.RawParameter(\"tol\") => 0.0001, MathOptInterface.RawParameter(\"print_level\") => 0])"
      ]
     },
     "metadata": {},
     "execution_count": 2
    }
   ],
   "source": [
    "cbc = JuMP.with_optimizer(Cbc.Optimizer, tol=1e-4, print_level=0)"
   ]
  },
  {
   "source": [
    "Input parameters:"
   ],
   "cell_type": "markdown",
   "metadata": {}
  },
  {
   "cell_type": "code",
   "execution_count": 3,
   "metadata": {},
   "outputs": [
    {
     "output_type": "execute_result",
     "data": {
      "text/plain": [
       "\"../data/case6_reliability.m\""
      ]
     },
     "metadata": {},
     "execution_count": 3
    }
   ],
   "source": [
    "number_of_hours = 60 # Number of time points\n",
    "file = \"./test/data/case6_reliability.m\"  #Input case, in matpower m-file format: Here 6bus case with candidate AC, DC lines and candidate storage"
   ]
  },
  {
   "source": [
    "Define contingency scenarios:"
   ],
   "cell_type": "markdown",
   "metadata": {}
  },
  {
   "cell_type": "code",
   "execution_count": 4,
   "metadata": {},
   "outputs": [
    {
     "output_type": "execute_result",
     "data": {
      "text/plain": [
       "1"
      ]
     },
     "metadata": {},
     "execution_count": 4
    }
   ],
   "source": [
    "scenario = Dict{String, Any}(\"hours\" => number_of_hours, \"contingency\" => Dict{String, Any}())\n",
    "# Base scenario\n",
    "scenario[\"contingency\"][\"0\"] = Dict{String, Any}()\n",
    "scenario[\"contingency\"][\"0\"][\"year\"] = 2019\n",
    "scenario[\"contingency\"][\"0\"][\"start\"] = 1546300800000   # 01.01.2019:00:00 in epoch time\n",
    "scenario[\"contingency\"][\"0\"][\"probability\"] = 0.98\n",
    "scenario[\"contingency\"][\"0\"][\"faults\"] = Dict()\n",
    "# Contingency 1\n",
    "scenario[\"contingency\"][\"1\"] = Dict{String, Any}()\n",
    "scenario[\"contingency\"][\"1\"][\"year\"] = 2019\n",
    "scenario[\"contingency\"][\"1\"][\"start\"] = 1546300800000   # 01.01.2019:00:00 in epoch time\n",
    "scenario[\"contingency\"][\"1\"][\"probability\"] = 0.01\n",
    "scenario[\"contingency\"][\"1\"][\"faults\"] = Dict(\"branchdc\" => [1])  \n",
    "# Contingency 2\n",
    "scenario[\"contingency\"][\"2\"] = Dict{String, Any}()\n",
    "scenario[\"contingency\"][\"2\"][\"year\"] = 2019\n",
    "scenario[\"contingency\"][\"2\"][\"start\"] = 1546300800000 # 01.01.2019:00:00 in epoch time \n",
    "scenario[\"contingency\"][\"2\"][\"probability\"] = 0.01\n",
    "scenario[\"contingency\"][\"2\"][\"faults\"] = Dict(\"branchdc_ne\" => [3])\n",
    "# Contingency 3\n",
    "scenario[\"contingency\"][\"3\"] = Dict{String, Any}()\n",
    "scenario[\"contingency\"][\"3\"][\"year\"] = 2019\n",
    "scenario[\"contingency\"][\"3\"][\"start\"] = 1546300800000 # 01.01.2019:00:00 in epoch time\n",
    "scenario[\"contingency\"][\"3\"][\"probability\"] = 0.01\n",
    "scenario[\"contingency\"][\"3\"][\"faults\"] = Dict(\"branchdc\" => [2])\n",
    "# Common parameters for all scenarios\n",
    "scenario[\"utypes\"] = [ \"branchdc\", \"branchdc_ne\"] # type of lines considered in contingencies\n",
    "scenario[\"planning_horizon\"] = 1 # in years, to scale generation cost  "
   ]
  },
  {
   "source": [
    "# Define and modify input-data"
   ],
   "cell_type": "markdown",
   "metadata": {}
  },
  {
   "source": [
    "Load system data from file:"
   ],
   "cell_type": "markdown",
   "metadata": {}
  },
  {
   "cell_type": "code",
   "execution_count": 5,
   "metadata": {},
   "outputs": [
    {
     "output_type": "stream",
     "name": "stdout",
     "text": [
      "\u001b[32m[info | PowerModels]: extending matpower format with data: storage_extra 1x4\u001b[39m\n",
      "\u001b[32m[info | PowerModels]: extending matpower format with data: convdc 4x35\u001b[39m\n",
      "\u001b[32m[info | PowerModels]: extending matpower format with data: busdc 4x9\u001b[39m\n",
      "\u001b[32m[info | PowerModels]: extending matpower format with data: convdc_ne 6x37\u001b[39m\n",
      "\u001b[32m[info | PowerModels]: extending matpower format with data: ne_storage 1x25\u001b[39m\n",
      "\u001b[32m[info | PowerModels]: extending matpower format with data: busdc_ne 4x9\u001b[39m\n",
      "\u001b[32m[info | PowerModels]: extending matpower format with data: load_extra 5x19\u001b[39m\n",
      "\u001b[32m[info | PowerModels]: extending matpower format with data: branchdc_ne 3x12\u001b[39m\n",
      "\u001b[32m[info | PowerModels]: extending matpower format with data: ne_branch 2x15\u001b[39m\n",
      "\u001b[32m[info | PowerModels]: extending matpower format with data: branchdc 2x10\u001b[39m\n",
      "\u001b[32m[info | PowerModels]: extending matpower format with constant data: time_elapsed\u001b[39m\n",
      "\u001b[32m[info | PowerModels]: extending matpower format by appending matrix \"storage_extra\" in to \"storage\"\u001b[39m\n",
      "\u001b[35m[warn | PowerModels]: the voltage setpoint on generator 2 does not match the value at bus 3\u001b[39m\n",
      "\u001b[35m[warn | PowerModels]: the voltage setpoint on generator 3 does not match the value at bus 3\u001b[39m\n",
      "\u001b[32m[info | PowerModels]: removing 1 cost terms from generator 4: [2.02, 0.0]\u001b[39m\n",
      "\u001b[32m[info | PowerModels]: removing 1 cost terms from generator 1: [2.0, 0.0]\u001b[39m\n",
      "\u001b[32m[info | PowerModels]: removing 1 cost terms from generator 5: [1.01, 0.0]\u001b[39m\n",
      "\u001b[32m[info | PowerModels]: removing 1 cost terms from generator 2: [2.01, 0.0]\u001b[39m\n",
      "\u001b[32m[info | PowerModels]: removing 1 cost terms from generator 6: [1.02, 0.0]\u001b[39m\n",
      "\u001b[32m[info | PowerModels]: removing 1 cost terms from generator 3: [1.0, 0.0]\u001b[39m\n"
     ]
    },
    {
     "output_type": "execute_result",
     "data": {
      "text/plain": [
       "Dict{String,Any} with 23 entries:\n",
       "  \"ne_branch\"      => Dict{String,Any}(\"1\"=>Dict{String,Any}(\"br_r\"=>0.02,\"rate…\n",
       "  \"time_elapsed\"   => 1.0\n",
       "  \"branchdc_ne\"    => Dict{String,Any}(\"1\"=>Dict{String,Any}(\"c\"=>0.0,\"r\"=>0.01…\n",
       "  \"bus\"            => Dict{String,Any}(\"4\"=>Dict{String,Any}(\"zone\"=>1,\"bus_i\"=…\n",
       "  \"source_type\"    => \"matpower\"\n",
       "  \"name\"           => \"case6\"\n",
       "  \"dcline\"         => Dict{String,Any}()\n",
       "  \"source_version\" => \"2\"\n",
       "  \"gen\"            => Dict{String,Any}(\"4\"=>Dict{String,Any}(\"ncost\"=>2,\"qc1max…\n",
       "  \"branch\"         => Dict{String,Any}(\"4\"=>Dict{String,Any}(\"br_r\"=>0.04,\"rate…\n",
       "  \"storage\"        => Dict{String,Any}(\"1\"=>Dict{String,Any}(\"energy_rating\"=>1…\n",
       "  \"switch\"         => Dict{String,Any}()\n",
       "  \"baseMVA\"        => 100.0\n",
       "  \"convdc\"         => Dict{String,Any}(\"4\"=>Dict{String,Any}(\"dVdcset\"=>0,\"Vtar…\n",
       "  \"load_extra\"     => Dict{String,Any}(\"4\"=>Dict{String,Any}(\"e_nce_max\"=>0,\"p_…\n",
       "  \"per_unit\"       => true\n",
       "  \"ne_storage\"     => Dict{String,Any}(\"1\"=>Dict{String,Any}(\"energy_rating\"=>1…\n",
       "  \"shunt\"          => Dict{String,Any}()\n",
       "  \"convdc_ne\"      => Dict{String,Any}(\"4\"=>Dict{String,Any}(\"dVdcset\"=>0,\"Vtar…\n",
       "  \"branchdc\"       => Dict{String,Any}(\"1\"=>Dict{String,Any}(\"c\"=>0.0,\"r\"=>0.01…\n",
       "  \"load\"           => Dict{String,Any}(\"4\"=>Dict{String,Any}(\"source_id\"=>Any[\"…\n",
       "  \"busdc_ne\"       => Dict{String,Any}(\"4\"=>Dict{String,Any}(\"basekVdc\"=>320,\"s…\n",
       "  \"busdc\"          => Dict{String,Any}(\"4\"=>Dict{String,Any}(\"basekVdc\"=>320,\"s…"
      ]
     },
     "metadata": {},
     "execution_count": 5
    }
   ],
   "source": [
    "data = _PM.parse_file(file) # Create PowerModels data dictionary (AC networks and storage)"
   ]
  },
  {
   "source": [
    "Create data for the contingency model based on system data and contingency scenarios:"
   ],
   "cell_type": "markdown",
   "metadata": {}
  },
  {
   "cell_type": "code",
   "execution_count": 10,
   "metadata": {},
   "outputs": [
    {
     "output_type": "error",
     "ename": "SystemError",
     "evalue": "SystemError: opening file \"./test/data/pv_sicily_2019.json\": No such file or directory",
     "traceback": [
      "SystemError: opening file \"./test/data/pv_sicily_2019.json\": No such file or directory",
      "",
      "Stacktrace:",
      " [1] systemerror(::String, ::Int32; extrainfo::Nothing) at .\\error.jl:168",
      " [2] #systemerror#50 at .\\error.jl:167 [inlined]",
      " [3] systemerror at .\\error.jl:167 [inlined]",
      " [4] open(::String; read::Nothing, write::Nothing, create::Nothing, truncate::Nothing, append::Nothing) at .\\iostream.jl:254",
      " [5] open at .\\iostream.jl:246 [inlined]",
      " [6] open(::FlexPlan.var\"#50#53\", ::String; kwargs::Base.Iterators.Pairs{Union{},Union{},Tuple{},NamedTuple{(),Tuple{}}}) at .\\io.jl:296",
      " [7] open at .\\io.jl:296 [inlined]",
      " [8] read_res_data(::Int64) at c:\\Users\\espenb\\Documents\\FlexPlan.jl\\src\\io\\read_res_data.jl:4",
      " [9] create_contingency_data_italy(::Dict{String,Any}, ::Dict{String,Any}) at c:\\Users\\espenb\\Documents\\FlexPlan.jl\\src\\io\\profile_data.jl:256",
      " [10] top-level scope at In[10]:1"
     ]
    }
   ],
   "source": [
    "\n",
    "data, contingency_profile, loadprofile, genprofile = _FP.create_contingency_data_italy(data, scenario) # create load and generation profiles\n",
    "_PMACDC.process_additional_data!(data) # Add DC grid data to the data dictionary\n",
    "_FP.add_storage_data!(data) # Add addtional storage data model\n",
    "_FP.add_flexible_demand_data!(data) # Add flexible data model\n",
    "_FP.scale_cost_data!(data, scenario) # Scale cost data\n",
    "\n"
   ]
  },
  {
   "source": [
    "Translate data profiles into model parameters:"
   ],
   "cell_type": "markdown",
   "metadata": {}
  },
  {
   "cell_type": "code",
   "execution_count": null,
   "metadata": {},
   "outputs": [],
   "source": [
    "dim = number_of_hours * length(data[\"contingency\"])\n",
    "extradata = _FP.create_contingency_data(dim, data, contingency_profile, loadprofile, genprofile) # create a dictionary to pass time series "
   ]
  },
  {
   "source": [
    "Create data dictionary where time series data is included at the right place"
   ],
   "cell_type": "markdown",
   "metadata": {}
  },
  {
   "cell_type": "code",
   "execution_count": 9,
   "metadata": {},
   "outputs": [
    {
     "output_type": "error",
     "ename": "UndefVarError",
     "evalue": "UndefVarError: data not defined",
     "traceback": [
      "UndefVarError: data not defined",
      "",
      "Stacktrace:",
      " [1] top-level scope at In[9]:1"
     ]
    }
   ],
   "source": [
    "mn_data = _PMACDC.multinetwork_data(data, extradata, Set{String}([\"source_type\", \"contingency\", \"contingency_prob\", \"name\", \"source_version\", \"per_unit\"]))"
   ]
  },
  {
   "source": [
    "# Create and solve optimization model"
   ],
   "cell_type": "markdown",
   "metadata": {}
  },
  {
   "source": [
    " Add PowerModels(ACDC) settings"
   ],
   "cell_type": "markdown",
   "metadata": {}
  },
  {
   "cell_type": "code",
   "execution_count": 7,
   "metadata": {},
   "outputs": [
    {
     "output_type": "execute_result",
     "data": {
      "text/plain": [
       "Dict{String,Any} with 3 entries:\n",
       "  \"conv_losses_mp\"          => false\n",
       "  \"output\"                  => Dict{String,Bool}(\"branch_flows\"=>1)\n",
       "  \"process_data_internally\" => false"
      ]
     },
     "metadata": {},
     "execution_count": 7
    }
   ],
   "source": [
    "s = Dict(\"output\" => Dict(\"branch_flows\" => true), \"conv_losses_mp\" => false, \"process_data_internally\" => false)"
   ]
  },
  {
   "source": [
    "Build optimisation model, solve it and write solution dictionary:"
   ],
   "cell_type": "markdown",
   "metadata": {}
  },
  {
   "cell_type": "code",
   "execution_count": 8,
   "metadata": {},
   "outputs": [
    {
     "output_type": "error",
     "ename": "UndefVarError",
     "evalue": "UndefVarError: mn_data not defined",
     "traceback": [
      "UndefVarError: mn_data not defined",
      "",
      "Stacktrace:",
      " [1] top-level scope at In[8]:1"
     ]
    }
   ],
   "source": [
    "result = _FP.reliability_tnep(mn_data, _PM.DCPPowerModel, cbc, multinetwork=true; setting = s)"
   ]
  },
  {
   "source": [
    "# Plot and examine results"
   ],
   "cell_type": "markdown",
   "metadata": {}
  },
  {
   "source": [
    "<img src=\"./images/test_system.png\"/>"
   ],
   "cell_type": "markdown",
   "metadata": {}
  },
  {
   "source": [
    "Plot energy balance for bus nr. 5"
   ],
   "cell_type": "markdown",
   "metadata": {}
  },
  {
   "cell_type": "code",
   "execution_count": null,
   "metadata": {},
   "outputs": [],
   "source": [
    "enbal_plot = _FP.plot_energy_balance_scenarios(data, result, \"contingency\", 5)\n",
    "savefig(enbal_plot, \"bus5_enbal.png\")"
   ]
  },
  {
   "cell_type": "code",
   "execution_count": 6,
   "metadata": {},
   "outputs": [
    {
     "output_type": "error",
     "ename": "UndefVarError",
     "evalue": "UndefVarError: enbal_plot not defined",
     "traceback": [
      "UndefVarError: enbal_plot not defined",
      "",
      "Stacktrace:",
      " [1] top-level scope at In[6]:1"
     ]
    }
   ],
   "source": [
    "display(enbal_plot)"
   ]
  },
  {
   "cell_type": "code",
   "execution_count": null,
   "metadata": {},
   "outputs": [],
   "source": []
  }
 ]
}