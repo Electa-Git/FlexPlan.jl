{
 "metadata": {
  "language_info": {
   "codemirror_mode": {
    "name": "ipython",
    "version": 3
   },
   "file_extension": ".py",
   "mimetype": "text/x-python",
   "name": "python",
   "nbconvert_exporter": "python",
   "pygments_lexer": "ipython3",
   "version": "3.8.6-final"
  },
  "orig_nbformat": 2,
  "kernelspec": {
   "name": "julia-1.4",
   "display_name": "Julia 1.4.2",
   "language": "julia"
  }
 },
 "nbformat": 4,
 "nbformat_minor": 2,
 "cells": [
  {
   "source": [
    "# Reliability testing in  FlexPlan"
   ],
   "cell_type": "markdown",
   "metadata": {}
  },
  {
   "cell_type": "code",
   "execution_count": null,
   "metadata": {},
   "outputs": [],
   "source": [
    "using Revise\n",
    "import FlexPlan; const _FP = FlexPlan\n",
    "import PowerModelsACDC; const _PMACDC = PowerModelsACDC\n",
    "import PowerModels; const _PM = PowerModels\n",
    "import InfrastructureModels; const _IM = InfrastructureModels\n",
    "\n",
    "import JuMP\n",
    "import Cbc\n",
    "\n",
    "using JuliaDB\n",
    "using Plots"
   ]
  },
  {
   "source": [
    "Solver configurations:"
   ],
   "cell_type": "markdown",
   "metadata": {}
  },
  {
   "cell_type": "code",
   "execution_count": null,
   "metadata": {},
   "outputs": [],
   "source": [
    "cbc = JuMP.with_optimizer(Cbc.Optimizer, tol=1e-4, print_level=0)"
   ]
  },
  {
   "source": [
    "Input parameters:"
   ],
   "cell_type": "markdown",
   "metadata": {}
  },
  {
   "cell_type": "code",
   "execution_count": null,
   "metadata": {},
   "outputs": [],
   "source": [
    "number_of_hours = 60 # Number of time points\n",
    "file = \"./test/data/case6_reliability.m\";  #Input case, in matpower m-file format: Here 6bus case with candidate AC, DC lines and candidate storage"
   ]
  },
  {
   "source": [
    "Define contingency scenarios for base case (no contingecies):"
   ],
   "cell_type": "markdown",
   "metadata": {}
  },
  {
   "cell_type": "code",
   "execution_count": null,
   "metadata": {},
   "outputs": [],
   "source": [
    "scenario = Dict{String, Any}(\"hours\" => number_of_hours, \"contingency\" => Dict{String, Any}())\n",
    "# Base scenario\n",
    "scenario[\"contingency\"][\"0\"] = Dict{String, Any}()\n",
    "scenario[\"contingency\"][\"0\"][\"year\"] = 2019\n",
    "scenario[\"contingency\"][\"0\"][\"start\"] = 1546300800000   # 01.01.2019:00:00 in epoch time\n",
    "scenario[\"contingency\"][\"0\"][\"probability\"] = 1.0\n",
    "scenario[\"contingency\"][\"0\"][\"faults\"] = Dict()\n",
    "scenario[\"utypes\"] = []#, \"branchdc_ne\"] # type of lines considered in contingencies\n",
    "scenario[\"planning_horizon\"] = 1 # in years, to scale generation cost  "
   ]
  },
  {
   "source": [
    "# Define and modify input-data"
   ],
   "cell_type": "markdown",
   "metadata": {}
  },
  {
   "source": [
    "Load system data from file:"
   ],
   "cell_type": "markdown",
   "metadata": {}
  },
  {
   "cell_type": "code",
   "execution_count": null,
   "metadata": {},
   "outputs": [],
   "source": [
    "data = _PM.parse_file(file); # Create PowerModels data dictionary (AC networks and storage)"
   ]
  },
  {
   "source": [
    "Create data for the contingency model based on system data and contingency scenarios:"
   ],
   "cell_type": "markdown",
   "metadata": {}
  },
  {
   "cell_type": "code",
   "execution_count": null,
   "metadata": {},
   "outputs": [],
   "source": [
    "\n",
    "data, contingency_profile, loadprofile, genprofile = _FP.create_contingency_data_italy(data, scenario) # create load and generation profiles\n",
    "_PMACDC.process_additional_data!(data) # Add DC grid data to the data dictionary\n",
    "_FP.add_storage_data!(data) # Add addtional storage data model\n",
    "_FP.add_flexible_demand_data!(data) # Add flexible data model\n",
    "_FP.scale_cost_data!(data, scenario) # Scale cost data\n",
    "\n"
   ]
  },
  {
   "source": [
    "Translate data profiles into model parameters:"
   ],
   "cell_type": "markdown",
   "metadata": {}
  },
  {
   "cell_type": "code",
   "execution_count": null,
   "metadata": {},
   "outputs": [],
   "source": [
    "dim = number_of_hours * length(data[\"contingency\"])\n",
    "extradata = _FP.create_contingency_data(dim, data, contingency_profile, loadprofile, genprofile) # create a dictionary to pass time series "
   ]
  },
  {
   "source": [
    "# Case system overview"
   ],
   "cell_type": "markdown",
   "metadata": {}
  },
  {
   "source": [
    "<img src=\"./test/notebooks/images/6_bus_system_ACDC.jpg\" height=400 />"
   ],
   "cell_type": "markdown",
   "metadata": {}
  },
  {
   "source": [
    "# Load shedding test"
   ],
   "cell_type": "markdown",
   "metadata": {}
  },
  {
   "source": [
    "The first test will verify that the slack variable used for representing load shedding in an intact grid (i.e. without considering contingencies) works as intended. This variable should get a non-zero value only if the generation is not sufficient to supply the load demand, and for these hours a cost of energy not supplied should be incurred. The model specification currently specifies multiple decision (slack) variables with associated cost parameters that could be used to represent this: Compensation for load curtailment $C^{nce}_{u,t,y}$ compensation for consuming less $C^{nce}_{u,t,y}$ and nodal load slack cost associated non-supplied load $C^{LL}_{u,t,y}$. The purpose of this test is to test functionality that is similar to load shedding due to contingencies before extending the implementation to actually represent contingencies. (If not correctly implemented, one could end up with load curtailment due to contingencies causing non-zero values for the wrong slack variables.) The compensation for consuming less $C^{nce}_{u,t,y}$ should only be relevant when flexible demand is present and could therefore be neglected here. \n",
    "\n",
    "To provoke load shedding without contingencies, the easiest approach may be to reduce the power transfer capacity of the lines feeding into the bus that for which one will provoke load shedding. Bus 4 and bus 5 are connected to the rest of the network by only two branches each, making it relatively easier to control the power supply to these buses. When the power transfer capacities are reduced below a certain threshold, the variable one should get $L^{ref}_{u,t,y}-L^{Lc}_{u,t,y}$ and an additional operational cost $C^{Lc}_{u,t,y}(L^{ref}_{u,t,y}-L^{Lc}_{u,t,y}$).\n",
    "\n",
    "A second step in the test can be to put one of the two branches feeding the selected load bus in an outage state. This should give the same result as the test above if the power transfer limit of the remaining branch feeding the bus is set to an appropriate value for getting load shedding at the bus.\n"
   ],
   "cell_type": "markdown",
   "metadata": {}
  },
  {
   "source": [
    "Plotting load vs line capacities for AC bus nr. 5:\n"
   ],
   "cell_type": "markdown",
   "metadata": {}
  },
  {
   "cell_type": "code",
   "execution_count": null,
   "metadata": {},
   "outputs": [],
   "source": [
    "load_5_scale = 0.85\n",
    "load_5 = extradata[\"load\"][\"5\"][\"pd\"]*load_5_scale\n",
    "ntime = length(load_5)\n",
    "pd = reshape(load_5,(ntime,1))\n",
    "t = collect(1:ntime)\n",
    "cap_L1 = data[\"branch\"][\"1\"][\"rate_a\"]\n",
    "cap_L2 = data[\"branch\"][\"2\"][\"rate_a\"]\n",
    "cap_L1L2 = cap_L1 + cap_L2\n",
    "\n",
    "pd_max = maximum(pd)\n",
    "max_val = maximum([pd_max, cap_L1L2])\n",
    "\n",
    "line_cap_plot = plot(t, pd, ylim = (0,max_val*1.05), label = \"Load bus 5\")\n",
    "plot!([first(t), last(t)], [cap_L1, cap_L1], label = \"L1 cap\", color = \"orange\")\n",
    "plot!([first(t), last(t)], [cap_L2, cap_L2], label = \"L2 cap\", color = \"black\")\n",
    "plot!([first(t), last(t)], [cap_L1L2, cap_L1L2], label = \"L1 + L2 cap\", color = \"red\")\n",
    "display(line_cap_plot)"
   ]
  },
  {
   "source": [
    "We scale the bus 5 load such that lines 1 and 2 can supply the load by themself:"
   ],
   "cell_type": "markdown",
   "metadata": {}
  },
  {
   "cell_type": "code",
   "execution_count": null,
   "metadata": {},
   "outputs": [],
   "source": [
    "extradata[\"load\"][\"5\"][\"pd\"] *= load_5_scale;"
   ]
  },
  {
   "source": [
    "We also have to scale generation in bus 1 to get enough generation through line 1:"
   ],
   "cell_type": "markdown",
   "metadata": {}
  },
  {
   "cell_type": "code",
   "execution_count": null,
   "metadata": {},
   "outputs": [],
   "source": [
    "gen_1_scale = (1.8/1.4)\n",
    "extradata[\"gen\"][\"1\"][\"pmax\"] *= gen_1_scale;\n",
    "data[\"gen\"][\"1\"][\"pmax\"] *= gen_1_scale;"
   ]
  },
  {
   "cell_type": "code",
   "execution_count": null,
   "metadata": {},
   "outputs": [],
   "source": [
    "data[\"branchdc_ne\"][\"3\"][\"cost\"] *= 50"
   ]
  },
  {
   "source": [
    "Create data dictionary where time series data is included at the right place"
   ],
   "cell_type": "markdown",
   "metadata": {}
  },
  {
   "cell_type": "code",
   "execution_count": null,
   "metadata": {},
   "outputs": [],
   "source": [
    "mn_data = _PMACDC.multinetwork_data(data, extradata, Set{String}([\"source_type\", \"contingency\", \"contingency_prob\", \"name\", \"source_version\", \"per_unit\"]))"
   ]
  },
  {
   "source": [
    " Add PowerModels(ACDC) settings"
   ],
   "cell_type": "markdown",
   "metadata": {}
  },
  {
   "cell_type": "code",
   "execution_count": null,
   "metadata": {},
   "outputs": [],
   "source": [
    "s = Dict(\"output\" => Dict(\"branch_flows\" => true), \"conv_losses_mp\" => false, \"process_data_internally\" => false)"
   ]
  },
  {
   "source": [
    "Solve the model for base case:"
   ],
   "cell_type": "markdown",
   "metadata": {}
  },
  {
   "cell_type": "code",
   "execution_count": null,
   "metadata": {
    "tags": [
     "outputPrepend"
    ]
   },
   "outputs": [],
   "source": [
    "result_base = _FP.reliability_tnep(mn_data, _PM.DCPPowerModel, cbc, multinetwork=true; setting = s);"
   ]
  },
  {
   "cell_type": "code",
   "execution_count": null,
   "metadata": {},
   "outputs": [],
   "source": [
    "enbal_plot = _FP.plot_energy_balance_scenarios(mn_data, result_base, data[\"contingency\"], 5);"
   ]
  },
  {
   "cell_type": "code",
   "execution_count": null,
   "metadata": {},
   "outputs": [],
   "source": [
    "savefig(enbal_plot, \"energy_balance_base.png\")"
   ]
  },
  {
   "source": [
    "Reset and double load from original value:"
   ],
   "cell_type": "markdown",
   "metadata": {}
  },
  {
   "cell_type": "code",
   "execution_count": null,
   "metadata": {},
   "outputs": [],
   "source": [
    "extradata[\"load\"][\"5\"][\"pd\"] *= (2/load_5_scale);\n",
    "mn_data = _PMACDC.multinetwork_data(data, extradata, Set{String}([\"source_type\", \"contingency\", \"contingency_prob\", \"name\", \"source_version\", \"per_unit\"]))"
   ]
  },
  {
   "source": [
    "Solve"
   ],
   "cell_type": "markdown",
   "metadata": {}
  },
  {
   "cell_type": "code",
   "execution_count": null,
   "metadata": {
    "tags": [
     "outputPrepend"
    ]
   },
   "outputs": [],
   "source": [
    "result_base = _FP.reliability_tnep(mn_data, _PM.DCPPowerModel, cbc, multinetwork=true; setting = s);"
   ]
  },
  {
   "source": [
    "Plot"
   ],
   "cell_type": "markdown",
   "metadata": {}
  },
  {
   "cell_type": "code",
   "execution_count": null,
   "metadata": {},
   "outputs": [],
   "source": [
    "enbal_plot = _FP.plot_energy_balance_scenarios(mn_data, result_base, data[\"contingency\"], 5);"
   ]
  },
  {
   "cell_type": "code",
   "execution_count": null,
   "metadata": {},
   "outputs": [],
   "source": [
    "savefig(enbal_plot, \"energy_balance_base_2x_load.png\")"
   ]
  },
  {
   "source": [
    "Set load to 10 times original value:"
   ],
   "cell_type": "markdown",
   "metadata": {}
  },
  {
   "cell_type": "code",
   "execution_count": null,
   "metadata": {},
   "outputs": [],
   "source": [
    "extradata[\"load\"][\"5\"][\"pd\"] *= (10/2);\n",
    "mn_data = _PMACDC.multinetwork_data(data, extradata, Set{String}([\"source_type\", \"contingency\", \"contingency_prob\", \"name\", \"source_version\", \"per_unit\"]))"
   ]
  },
  {
   "source": [
    "Solve"
   ],
   "cell_type": "markdown",
   "metadata": {}
  },
  {
   "cell_type": "code",
   "execution_count": null,
   "metadata": {
    "tags": [
     "outputPrepend"
    ]
   },
   "outputs": [],
   "source": [
    "result_base = _FP.reliability_tnep(mn_data, _PM.DCPPowerModel, cbc, multinetwork=true; setting = s);"
   ]
  },
  {
   "source": [
    "Plot"
   ],
   "cell_type": "markdown",
   "metadata": {}
  },
  {
   "cell_type": "code",
   "execution_count": null,
   "metadata": {},
   "outputs": [],
   "source": [
    "enbal_plot = _FP.plot_energy_balance_scenarios(mn_data, result_base, data[\"contingency\"], 5);"
   ]
  },
  {
   "source": [
    "**Issue 1: **{style=\"color:red\"} There are no limits on curtailed power (variable: pcurt), such that interrupted power is never used."
   ],
   "cell_type": "markdown",
   "metadata": {}
  },
  {
   "source": [
    "# Load shedding due to contingencies"
   ],
   "cell_type": "markdown",
   "metadata": {}
  },
  {
   "source": [
    "After implementing contingency constraints and the objective function term for costs of energy not supplied due to contingencies, one could replicate the load shedding tests above where two branches feeding load bus 5 are sufficient to supply the load demand but a single branch is not. In the \"base case\" (intact grid) both branches feeding the load bus should be in an up state, and one of the branches should be included in the contingency list. In this case, load shedding should be represented in the solution by non-zero values for the slack variable $\\Delta P_{u,c,t,y}$  in the contingency case c=1 and not by any of the other slack variables, and there should be no load shedding in the non-contingency case c=0."
   ],
   "cell_type": "markdown",
   "metadata": {}
  },
  {
   "cell_type": "code",
   "execution_count": null,
   "metadata": {},
   "outputs": [],
   "source": [
    "scenario = Dict{String, Any}(\"hours\" => number_of_hours, \"contingency\" => Dict{String, Any}())\n",
    "# Base scenario\n",
    "scenario[\"contingency\"][\"0\"] = Dict{String, Any}()\n",
    "scenario[\"contingency\"][\"0\"][\"year\"] = 2019\n",
    "scenario[\"contingency\"][\"0\"][\"start\"] = 1546300800000   # 01.01.2019:00:00 in epoch time\n",
    "scenario[\"contingency\"][\"0\"][\"probability\"] = 0.98\n",
    "scenario[\"contingency\"][\"0\"][\"faults\"] = Dict()\n",
    "# Contingency 1\n",
    "scenario[\"contingency\"][\"1\"] = Dict{String, Any}()\n",
    "scenario[\"contingency\"][\"1\"][\"year\"] = 2019\n",
    "scenario[\"contingency\"][\"1\"][\"start\"] = 1546300800000   # 01.01.2019:00:00 in epoch time\n",
    "scenario[\"contingency\"][\"1\"][\"probability\"] = 0.01\n",
    "scenario[\"contingency\"][\"1\"][\"faults\"] = Dict(\"branchdc\" => [1])  \n",
    "# Contingency 2\n",
    "scenario[\"contingency\"][\"2\"] = Dict{String, Any}()\n",
    "scenario[\"contingency\"][\"2\"][\"year\"] = 2019\n",
    "scenario[\"contingency\"][\"2\"][\"start\"] = 1546300800000 # 01.01.2019:00:00 in epoch time \n",
    "scenario[\"contingency\"][\"2\"][\"probability\"] = 0.01\n",
    "scenario[\"contingency\"][\"2\"][\"faults\"] = Dict(\"branchdc\" => [2])\n",
    "scenario[\"utypes\"] = [\"branchdc\"] # type of lines considered in contingencies\n",
    "scenario[\"planning_horizon\"] = 1 # in years, to scale generation cost  "
   ]
  },
  {
   "cell_type": "code",
   "execution_count": null,
   "metadata": {},
   "outputs": [],
   "source": [
    "data = _PM.parse_file(file); # Create PowerModels data dictionary (AC networks and storage)\n",
    "data, contingency_profile, loadprofile, genprofile = _FP.create_contingency_data_italy(data, scenario) # create load and generation profiles\n",
    "_PMACDC.process_additional_data!(data) # Add DC grid data to the data dictionary\n",
    "_FP.add_storage_data!(data) # Add addtional storage data model\n",
    "_FP.add_flexible_demand_data!(data) # Add flexible data model\n",
    "_FP.scale_cost_data!(data, scenario) # Scale cost data\n",
    "dim = number_of_hours * length(data[\"contingency\"])\n",
    "extradata = _FP.create_contingency_data(dim, data, contingency_profile, loadprofile, genprofile) # create a dictionary to pass time series\n"
   ]
  },
  {
   "source": [
    "Scale the load and generation as previously:"
   ],
   "cell_type": "markdown",
   "metadata": {}
  },
  {
   "cell_type": "code",
   "execution_count": null,
   "metadata": {},
   "outputs": [],
   "source": [
    "extradata[\"load\"][\"5\"][\"pd\"] *= load_5_scale;\n",
    "extradata[\"gen\"][\"1\"][\"pmax\"] *= gen_1_scale;\n",
    "data[\"gen\"][\"1\"][\"pmax\"] *= gen_1_scale;\n",
    "data[\"branchdc_ne\"][\"3\"][\"cost\"] *= 100000 # Making building dc line candidate nr. 3 too expensive "
   ]
  },
  {
   "source": [
    "Create multi-network data:"
   ],
   "cell_type": "markdown",
   "metadata": {}
  },
  {
   "cell_type": "code",
   "execution_count": null,
   "metadata": {},
   "outputs": [],
   "source": [
    "mn_data = _PMACDC.multinetwork_data(data, extradata, Set{String}([\"source_type\", \"contingency\", \"contingency_prob\", \"name\", \"source_version\", \"per_unit\"]))"
   ]
  },
  {
   "source": [
    "Solve:"
   ],
   "cell_type": "markdown",
   "metadata": {}
  },
  {
   "cell_type": "code",
   "execution_count": null,
   "metadata": {
    "tags": [
     "outputPrepend"
    ]
   },
   "outputs": [],
   "source": [
    "result_2con = _FP.reliability_tnep(mn_data, _PM.DCPPowerModel, cbc, multinetwork=true; setting = s);"
   ]
  },
  {
   "cell_type": "code",
   "execution_count": null,
   "metadata": {},
   "outputs": [],
   "source": [
    "enbal_plot = _FP.plot_energy_balance_scenarios(mn_data, result_2con, data[\"contingency\"], 5);"
   ]
  },
  {
   "cell_type": "code",
   "execution_count": null,
   "metadata": {},
   "outputs": [],
   "source": [
    "savefig(enbal_plot, \"energy_balance_2scen_high_inv_cost.png\")"
   ]
  },
  {
   "source": [
    "We get the following investments:"
   ],
   "cell_type": "markdown",
   "metadata": {}
  },
  {
   "cell_type": "code",
   "execution_count": null,
   "metadata": {},
   "outputs": [],
   "source": [
    "_FP.plot_inv_matrix(result_2con, data[\"contingency\"], \"0\")"
   ]
  },
  {
   "cell_type": "code",
   "execution_count": null,
   "metadata": {
    "tags": [
     "outputPrepend"
    ]
   },
   "outputs": [],
   "source": [
    "extradata[\"load\"][\"5\"][\"pd\"] *= (2/load_5_scale);\n",
    "data[\"branchdc_ne\"][\"3\"][\"cost\"] *= (50/100000) \n",
    "mn_data = _PMACDC.multinetwork_data(data, extradata, Set{String}([\"source_type\", \"contingency\", \"contingency_prob\", \"name\", \"source_version\", \"per_unit\"]))\n",
    "result_2con = _FP.reliability_tnep(mn_data, _PM.DCPPowerModel, cbc, multinetwork=true; setting = s);"
   ]
  },
  {
   "cell_type": "code",
   "execution_count": null,
   "metadata": {},
   "outputs": [],
   "source": [
    "enbal_plot = _FP.plot_energy_balance_scenarios(mn_data, result_2con, data[\"contingency\"], 5);"
   ]
  },
  {
   "cell_type": "code",
   "execution_count": null,
   "metadata": {},
   "outputs": [],
   "source": [
    "savefig(enbal_plot, \"energy_balance_2scen_2xload.png\")"
   ]
  },
  {
   "source": [
    "Reset investment costs for new dc line nr. 3 to same as base case (10 times costs from input file - not profitable without contingencies): "
   ],
   "cell_type": "markdown",
   "metadata": {}
  },
  {
   "cell_type": "code",
   "execution_count": null,
   "metadata": {
    "tags": [
     "outputPrepend"
    ]
   },
   "outputs": [],
   "source": [
    "extradata[\"load\"][\"5\"][\"pd\"] *= (load_5_scale/2);\n",
    "mn_data = _PMACDC.multinetwork_data(data, extradata, Set{String}([\"source_type\", \"contingency\", \"contingency_prob\", \"name\", \"source_version\", \"per_unit\"]))\n",
    "result_2con = _FP.reliability_tnep(mn_data, _PM.DCPPowerModel, cbc, multinetwork=true; setting = s);"
   ]
  },
  {
   "cell_type": "code",
   "execution_count": null,
   "metadata": {},
   "outputs": [],
   "source": [
    "enbal_plot = _FP.plot_energy_balance_scenarios(mn_data, result_2con, data[\"contingency\"], 5);"
   ]
  },
  {
   "cell_type": "code",
   "execution_count": null,
   "metadata": {},
   "outputs": [],
   "source": [
    "savefig(enbal_plot, \"energy_balance_2scen.png\")"
   ]
  },
  {
   "cell_type": "code",
   "execution_count": null,
   "metadata": {},
   "outputs": [],
   "source": [
    "_FP.plot_inv_matrix(result_2con, data[\"contingency\"], \"0\")"
   ]
  },
  {
   "source": [
    "# Sensitivity tests"
   ],
   "cell_type": "markdown",
   "metadata": {}
  },
  {
   "source": [
    "Increasing the failure rate or mean time to repair:\n",
    " - Increasing the value of the failure rate of a branch or the mean time to repair for a branch should give changes in the objective value that can be verified analytically.\n"
   ],
   "cell_type": "markdown",
   "metadata": {}
  },
  {
   "source": [
    "Change scenario probability:"
   ],
   "cell_type": "markdown",
   "metadata": {}
  },
  {
   "cell_type": "code",
   "execution_count": null,
   "metadata": {},
   "outputs": [],
   "source": [
    "scenario[\"contingency\"][\"0\"][\"probability\"] = 0.8 # old: 0.98 \n",
    "scenario[\"contingency\"][\"1\"][\"probability\"] = 0.2 # old: 0.01 \n",
    "scenario[\"contingency\"][\"2\"][\"probability\"] = 0.2 # old: 0.01 "
   ]
  },
  {
   "source": [
    "Set new data:"
   ],
   "cell_type": "markdown",
   "metadata": {}
  },
  {
   "cell_type": "code",
   "execution_count": null,
   "metadata": {},
   "outputs": [],
   "source": [
    "data = _PM.parse_file(file); # Create PowerModels data dictionary (AC networks and storage)\n",
    "data, contingency_profile, loadprofile, genprofile = _FP.create_contingency_data_italy(data, scenario) # create load and generation profiles\n",
    "_PMACDC.process_additional_data!(data) # Add DC grid data to the data dictionary\n",
    "_FP.add_storage_data!(data) # Add addtional storage data model\n",
    "_FP.add_flexible_demand_data!(data) # Add flexible data model\n",
    "_FP.scale_cost_data!(data, scenario) # Scale cost data\n",
    "dim = number_of_hours * length(data[\"contingency\"])\n",
    "extradata = _FP.create_contingency_data(dim, data, contingency_profile, loadprofile, genprofile) # create a dictionary to pass time series\n",
    "extradata[\"load\"][\"5\"][\"pd\"] *= load_5_scale;\n",
    "extradata[\"gen\"][\"1\"][\"pmax\"] *= gen_1_scale;\n",
    "data[\"gen\"][\"1\"][\"pmax\"] *= gen_1_scale;\n",
    "data[\"branchdc_ne\"][\"3\"][\"cost\"] *= 50;\n",
    "mn_data = _PMACDC.multinetwork_data(data, extradata, Set{String}([\"source_type\", \"contingency\", \"contingency_prob\", \"name\", \"source_version\", \"per_unit\"]))"
   ]
  },
  {
   "source": [
    "Solve and plot:"
   ],
   "cell_type": "markdown",
   "metadata": {}
  },
  {
   "cell_type": "code",
   "execution_count": null,
   "metadata": {
    "tags": [
     "outputPrepend"
    ]
   },
   "outputs": [],
   "source": [
    "result_2con_high_prob = _FP.reliability_tnep(mn_data, _PM.DCPPowerModel, cbc, multinetwork=true; setting = s);"
   ]
  },
  {
   "cell_type": "code",
   "execution_count": null,
   "metadata": {},
   "outputs": [],
   "source": [
    "enbal_plot = _FP.plot_energy_balance_scenarios(mn_data, result_2con_high_prob, data[\"contingency\"], 5);"
   ]
  },
  {
   "cell_type": "code",
   "execution_count": null,
   "metadata": {},
   "outputs": [],
   "source": [
    "_FP.plot_inv_matrix(result_2con, data[\"contingency\"], \"0\")"
   ]
  },
  {
   "cell_type": "code",
   "execution_count": null,
   "metadata": {},
   "outputs": [],
   "source": [
    "using Printf \n",
    "@printf(\"Objective value low prob: %.2f \\n\", result_2con[\"objective\"])\n",
    "@printf(\"Objective value high prob: %.2f \\n\", result_2con_high_prob[\"objective\"])\n",
    "@printf(\"Relative increase: %.2f percent \\n\", (result_2con_high_prob[\"objective\"]-result_2con[\"objective\"])*100/result_2con[\"objective\"])"
   ]
  },
  {
   "source": [
    "Branches subject to outage:\n",
    "-\tOne can specify which branches are subject to outage or in other words included in the contingency list. E.g. one could include both branches feeding the load bus under study rather than just one, or all 4 branches feeding load buses 4 and 5, or all branches in the network.\n",
    "- We have shown this for 0 and two branches above"
   ],
   "cell_type": "markdown",
   "metadata": {}
  },
  {
   "source": [],
   "cell_type": "markdown",
   "metadata": {}
  },
  {
   "source": [
    "Combining reliability modelling with transmission expansion:\n",
    "-\tIt should be possible to combine contingency constraints with the specification of candidate branches to solve a transmission expansion problem considering contingencies. If only existing branches are subject to outage and if no branches connected to load buses 4 and 5 are candidates, this should not influence the results significantly(?) "
   ],
   "cell_type": "markdown",
   "metadata": {}
  },
  {
   "cell_type": "code",
   "execution_count": null,
   "metadata": {},
   "outputs": [],
   "source": []
  },
  {
   "source": [
    "Reliability-driven transmission expansion:\n",
    "- If the value of lost load at load bus 4 or 5 is set sufficiently high, this should incentivize the investment in a transmission line in parallel with the lines already supplying these load buses. This should also be possible to achieve by increasing the failure rate and/or the mean time to repair for the branches."
   ],
   "cell_type": "markdown",
   "metadata": {}
  },
  {
   "cell_type": "code",
   "execution_count": null,
   "metadata": {},
   "outputs": [],
   "source": []
  },
  {
   "source": [
    "Reliability-driven transmission expansion:\n",
    "-\tIf the value of lost load at load bus 4 or 5 is set sufficiently high, this should incentivize the investment in a transmission line in parallel with the lines already supplying these load buses. This should also be possible to achieve by increasing the failure rate and/or the mean time to repair for the branches."
   ],
   "cell_type": "markdown",
   "metadata": {}
  },
  {
   "cell_type": "code",
   "execution_count": null,
   "metadata": {},
   "outputs": [],
   "source": []
  },
  {
   "source": [
    "Candidate branches subject to outage:\n",
    "-\tIt should be possible to specify that a candidate branch is subject to outage and included in the contingency set. If the failure rate is sufficiently high, this should disincentivize the investment in this line, requiring the investment cost to be lower for the line to be build according to the optimization model."
   ],
   "cell_type": "markdown",
   "metadata": {}
  },
  {
   "cell_type": "code",
   "execution_count": null,
   "metadata": {},
   "outputs": [],
   "source": []
  },
  {
   "source": [
    "Combining reliability modelling with multi-period OPF:\n",
    "-\tIt should be possible to straightforwardly combine contingency constraints with going from a single-period OPF to a multi-period OPF formulation, e.g. a 24-period problem for a single day. If the load demand at the buses of interest (4 and 5) varies significantly during the day, it should be possible to see a corresponding variation in the solution for the load shedding (slack) variable and in the contributions to the cost of energy not supplied in the objective function."
   ],
   "cell_type": "markdown",
   "metadata": {}
  },
  {
   "cell_type": "code",
   "execution_count": null,
   "metadata": {},
   "outputs": [],
   "source": []
  },
  {
   "source": [
    "Combining reliability modelling with flexibility modelling:\n",
    "-\tIt should be possible to straightforwardly combine contingency constraints with flexibility elements e.g. at the load buses 4 or 5. The interactions may be easiest to investigate by first considering a pre-installed flexibility element (i.e. not a candidate). A storage element at the bus at which we are provoking load shedding should reduce the costs of energy not supplied, but it has to be considered more closely how these interactions will play out. Similarly, a demand flexibility at these load buses should give solutions with (voluntary) curtailment of load (and possibly shifting of load) rather than (involuntary) shedding of load. (This requires that the constraints and objective function terms for the flexibility elements are replicated in the model formulation for all contingencies.) There are probably also more subtle interactions that are not anticipated at the test planning stage…"
   ],
   "cell_type": "markdown",
   "metadata": {}
  },
  {
   "cell_type": "code",
   "execution_count": null,
   "metadata": {},
   "outputs": [],
   "source": [
    "\n",
    "scenario = Dict{String, Any}(\"hours\" => number_of_hours, \"contingency\" => Dict{String, Any}())\n",
    "# Base scenario\n",
    "scenario[\"contingency\"][\"0\"] = Dict{String, Any}()\n",
    "scenario[\"contingency\"][\"0\"][\"year\"] = 2019\n",
    "scenario[\"contingency\"][\"0\"][\"start\"] = 1546300800000   # 01.01.2019:00:00 in epoch time\n",
    "scenario[\"contingency\"][\"0\"][\"probability\"] = 0.97\n",
    "scenario[\"contingency\"][\"0\"][\"faults\"] = Dict()\n",
    "# Contingency 1\n",
    "scenario[\"contingency\"][\"1\"] = Dict{String, Any}()\n",
    "scenario[\"contingency\"][\"1\"][\"year\"] = 2019\n",
    "scenario[\"contingency\"][\"1\"][\"start\"] = 1546300800000   # 01.01.2019:00:00 in epoch time\n",
    "scenario[\"contingency\"][\"1\"][\"probability\"] = 0.01\n",
    "scenario[\"contingency\"][\"1\"][\"faults\"] = Dict(\"branchdc\" => [1])  \n",
    "# Contingency 2\n",
    "scenario[\"contingency\"][\"2\"] = Dict{String, Any}()\n",
    "scenario[\"contingency\"][\"2\"][\"year\"] = 2019\n",
    "scenario[\"contingency\"][\"2\"][\"start\"] = 1546300800000 # 01.01.2019:00:00 in epoch time \n",
    "scenario[\"contingency\"][\"2\"][\"probability\"] = 0.01\n",
    "scenario[\"contingency\"][\"2\"][\"faults\"] = Dict(\"branchdc\" => [2])\n",
    "# Contingency 3\n",
    "scenario[\"contingency\"][\"3\"] = Dict{String, Any}()\n",
    "scenario[\"contingency\"][\"3\"][\"year\"] = 2019\n",
    "scenario[\"contingency\"][\"3\"][\"start\"] = 1546300800000 # 01.01.2019:00:00 in epoch time \n",
    "scenario[\"contingency\"][\"3\"][\"probability\"] = 0.01\n",
    "scenario[\"contingency\"][\"3\"][\"faults\"] = Dict(\"branchdc_ne\" => [3])\n",
    "scenario[\"utypes\"] = [\"branchdc\", \"branchdc_ne\"] # type of lines considered in contingencies\n",
    "scenario[\"planning_horizon\"] = 1 # in years, to scale generation cost"
   ]
  },
  {
   "cell_type": "code",
   "execution_count": null,
   "metadata": {},
   "outputs": [],
   "source": [
    "data = _PM.parse_file(file); # Create PowerModels data dictionary (AC networks and storage)\n",
    "data, contingency_profile, loadprofile, genprofile = _FP.create_contingency_data_italy(data, scenario) # create load and generation profiles\n",
    "_PMACDC.process_additional_data!(data) # Add DC grid data to the data dictionary\n",
    "_FP.add_storage_data!(data) # Add addtional storage data model\n",
    "_FP.add_flexible_demand_data!(data) # Add flexible data model\n",
    "_FP.scale_cost_data!(data, scenario) # Scale cost data\n",
    "dim = number_of_hours * length(data[\"contingency\"])\n",
    "extradata = _FP.create_contingency_data(dim, data, contingency_profile, loadprofile, genprofile) # create a dictionary to pass time series\n",
    "mn_data = _PMACDC.multinetwork_data(data, extradata, Set{String}([\"source_type\", \"contingency\", \"contingency_prob\", \"name\", \"source_version\", \"per_unit\"]))"
   ]
  },
  {
   "cell_type": "code",
   "execution_count": null,
   "metadata": {},
   "outputs": [],
   "source": [
    "extradata[\"load\"][\"5\"][\"pd\"] *= load_5_scale;\n",
    "extradata[\"gen\"][\"1\"][\"pmax\"] *= gen_1_scale;\n",
    "data[\"gen\"][\"1\"][\"pmax\"] *= gen_1_scale;\n",
    "data[\"branchdc_ne\"][\"3\"][\"cost\"] *= 10 "
   ]
  },
  {
   "cell_type": "code",
   "execution_count": null,
   "metadata": {
    "tags": [
     "outputPrepend"
    ]
   },
   "outputs": [],
   "source": [
    "result_3con = _FP.reliability_tnep(mn_data, _PM.DCPPowerModel, cbc, multinetwork=true; setting = s);"
   ]
  },
  {
   "cell_type": "code",
   "execution_count": null,
   "metadata": {},
   "outputs": [],
   "source": [
    "enbal_plot = _FP.plot_energy_balance_scenarios(mn_data, result_3con, data[\"contingency\"], 5);"
   ]
  },
  {
   "cell_type": "code",
   "execution_count": null,
   "metadata": {},
   "outputs": [],
   "source": [
    "savefig(enbal_plot, \"energy_balance_3scen.png\")"
   ]
  },
  {
   "cell_type": "code",
   "execution_count": null,
   "metadata": {},
   "outputs": [],
   "source": []
  }
 ]
}